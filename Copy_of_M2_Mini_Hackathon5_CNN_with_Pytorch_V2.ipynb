{
  "nbformat": 4,
  "nbformat_minor": 0,
  "metadata": {
    "colab": {
      "provenance": []
    },
    "kernelspec": {
      "name": "python3",
      "display_name": "Python 3"
    },
    "accelerator": "GPU"
  },
  "cells": [
    {
      "cell_type": "markdown",
      "metadata": {
        "id": "hVMoZwHL4RTh"
      },
      "source": [
        "# Advanced Certification in AIML\n",
        "## A Program by IIIT-H and TalentSprint"
      ]
    },
    {
      "cell_type": "markdown",
      "metadata": {
        "id": "4EX7dr584we6"
      },
      "source": [
        "## Problem Statement"
      ]
    },
    {
      "cell_type": "markdown",
      "metadata": {
        "id": "MjsV_asO4yL_"
      },
      "source": [
        "To identify and classify images as cats or dogs"
      ]
    },
    {
      "cell_type": "markdown",
      "metadata": {
        "id": "JwfwDwfu6MXx"
      },
      "source": [
        "## Learning Objectives\n",
        "\n",
        "At the end of the experiment, you will be able to :\n",
        "\n",
        "* Load and prepare images for model using Pytorch\n",
        "* Develop a CNN model and improve model performance"
      ]
    },
    {
      "cell_type": "markdown",
      "metadata": {
        "id": "YnkmRa9Uozvd"
      },
      "source": [
        "## Dataset\n",
        "\n",
        "The Dogs vs. Cats dataset is a standard computer vision dataset that involves classifying photos as either containing a dog or cat. The train folder contains 22,500 images of dogs and cats. Each image in this folder has the label as part of the filename. The test folder contains 2,500 images, named according to a numeric id. For each image in the test set, you should predict a probability that the image is a dog or a cat (1 = dog, 0 = cat)."
      ]
    },
    {
      "cell_type": "markdown",
      "metadata": {
        "id": "gsyDey3To9hE"
      },
      "source": [
        "## Grading = 30 Marks"
      ]
    },
    {
      "cell_type": "markdown",
      "metadata": {
        "id": "0vt5qAcHpBPO"
      },
      "source": [
        "## Setup Steps"
      ]
    },
    {
      "cell_type": "code",
      "metadata": {
        "id": "PYipBJdqnkEw",
        "cellView": "form",
        "colab": {
          "base_uri": "https://localhost:8080/",
          "height": 34
        },
        "outputId": "98d178b7-57f1-428a-fb6a-e4b2bb0998cc"
      },
      "source": [
        "#@title Run this cell to complete the setup for this Notebook\n",
        "\n",
        "from IPython import get_ipython\n",
        "ipython = get_ipython()\n",
        "\n",
        "notebook=\"Exact_Note_Book_Name\" #name of the notebook\n",
        "Answer = \"This notebook is graded by mentors on the day of hackathon\"\n",
        "def setup():\n",
        "#\n",
        "   ipython.magic(\"sx wget https://cdn.talentsprint.com/aiml/Experiment_related_data/Cat_Dog_data.zip\")\n",
        "\n",
        "# ipython.magic(\"sx mv AIML_DS_GOOGLENEWS-VECTORS-NEGATIVE-300_STD.bin?dl=1 AIML_DS_GOOGLENEWS-VECTORS-NEGATIVE-300_STD.bin\")\n",
        "   print (\"Setup completed successfully\")\n",
        "   return\n",
        "\n",
        "setup()"
      ],
      "execution_count": null,
      "outputs": [
        {
          "output_type": "stream",
          "text": [
            "Setup completed successfully\n"
          ],
          "name": "stdout"
        }
      ]
    },
    {
      "cell_type": "code",
      "metadata": {
        "id": "-We5bkmTqFOQ"
      },
      "source": [
        "!unzip -qq Cat_Dog_data.zip"
      ],
      "execution_count": null,
      "outputs": []
    },
    {
      "cell_type": "code",
      "metadata": {
        "id": "brOxRK3w8DoJ",
        "colab": {
          "base_uri": "https://localhost:8080/",
          "height": 34
        },
        "outputId": "55dccd4b-8e1e-4012-e45c-959e0c21e496"
      },
      "source": [
        "ls"
      ],
      "execution_count": null,
      "outputs": [
        {
          "output_type": "stream",
          "text": [
            "\u001b[0m\u001b[01;34mCat_Dog_data\u001b[0m/  Cat_Dog_data.zip  \u001b[01;34m__MACOSX\u001b[0m/  \u001b[01;34msample_data\u001b[0m/\n"
          ],
          "name": "stdout"
        }
      ]
    },
    {
      "cell_type": "markdown",
      "metadata": {
        "id": "NLECiqpcdQTQ"
      },
      "source": [
        "## Basic Pytorch packages\n",
        "\n",
        "**torchvision :**  This package is used to load and prepare the dataset. Using this package we can perform/apply transformations on the input data.\n",
        "\n",
        "**transforms :**  This package is  used to perform preprocessing on images and operations sequentially.\n",
        "\n",
        "**nn :**  This package provides an easy and modular way to build and train simple or complex neural networks.\n",
        "\n",
        "**optim:** This package is used for  implementing various optimization algorithms"
      ]
    },
    {
      "cell_type": "code",
      "metadata": {
        "id": "MXq346qzqCdh"
      },
      "source": [
        "# Import Libraries\n",
        "import matplotlib.pyplot as plt\n",
        "import torch\n",
        "from torch import nn\n",
        "from torch import optim\n",
        "import torch.nn.functional as F\n",
        "from torchvision import datasets, transforms, models\n",
        "from torch.autograd import Variable"
      ],
      "execution_count": null,
      "outputs": []
    },
    {
      "cell_type": "code",
      "metadata": {
        "id": "aCKWfRI9_oSU",
        "colab": {
          "base_uri": "https://localhost:8080/",
          "height": 168
        },
        "outputId": "03aba40f-10cf-48a1-c68e-cd086e6b53ed"
      },
      "source": [
        "!pip install ipython-autotime\n",
        "%load_ext autotime"
      ],
      "execution_count": null,
      "outputs": [
        {
          "output_type": "stream",
          "text": [
            "Collecting ipython-autotime\n",
            "  Downloading https://files.pythonhosted.org/packages/e6/f9/0626bbdb322e3a078d968e87e3b01341e7890544de891d0cb613641220e6/ipython-autotime-0.1.tar.bz2\n",
            "Building wheels for collected packages: ipython-autotime\n",
            "  Building wheel for ipython-autotime (setup.py) ... \u001b[?25l\u001b[?25hdone\n",
            "  Created wheel for ipython-autotime: filename=ipython_autotime-0.1-cp36-none-any.whl size=1832 sha256=266afe5c88a37744df19b65dd5b761de8054c971b3fe4279e2f04eacf3da135a\n",
            "  Stored in directory: /root/.cache/pip/wheels/d2/df/81/2db1e54bc91002cec40334629bc39cfa86dff540b304ebcd6e\n",
            "Successfully built ipython-autotime\n",
            "Installing collected packages: ipython-autotime\n",
            "Successfully installed ipython-autotime-0.1\n"
          ],
          "name": "stdout"
        }
      ]
    },
    {
      "cell_type": "markdown",
      "metadata": {
        "id": "J6XWrer9It5R"
      },
      "source": [
        "## **Stage 1:** Define Transformations and import data\n",
        "\n",
        "### 3 Marks - > Compose multiple transformations with the following conditions\n",
        "\n",
        "1. Transform image size to 128 by using Resize()\n",
        "\n",
        "2. Convert image to Grayscale\n",
        "\n",
        "3. Transform image into a number using tensor\n",
        "\n",
        "4. Normalize the tensor image with 0.5\n",
        "\n",
        "[Hint](https://pytorch.org/tutorials/beginner/data_loading_tutorial.html)"
      ]
    },
    {
      "cell_type": "code",
      "metadata": {
        "id": "J9gYu09xDO-i",
        "colab": {
          "base_uri": "https://localhost:8080/",
          "height": 34
        },
        "outputId": "87c0f694-4e79-44a8-ef09-699d779fcdb2"
      },
      "source": [
        "### To test whether GPU instance is present in the system of not.\n",
        "use_cuda = torch.cuda.is_available()\n",
        "print('Using PyTorch version:', torch.__version__, 'CUDA:', use_cuda)"
      ],
      "execution_count": null,
      "outputs": [
        {
          "output_type": "stream",
          "text": [
            "Using PyTorch version: 1.4.0 CUDA: True\n"
          ],
          "name": "stdout"
        }
      ]
    },
    {
      "cell_type": "code",
      "metadata": {
        "id": "gy_ko6LBDRUU",
        "colab": {
          "base_uri": "https://localhost:8080/",
          "height": 34
        },
        "outputId": "4b404885-85ed-4cdd-e0c6-a46867eb8781"
      },
      "source": [
        "device = torch.device(\"cuda\" if use_cuda else \"cpu\")\n",
        "device"
      ],
      "execution_count": null,
      "outputs": [
        {
          "output_type": "execute_result",
          "data": {
            "text/plain": [
              "device(type='cuda')"
            ]
          },
          "metadata": {
            "tags": []
          },
          "execution_count": 14
        }
      ]
    },
    {
      "cell_type": "code",
      "metadata": {
        "id": "qUkNUd_dqIzv"
      },
      "source": [
        "image_size = (128,128)\n",
        "\n",
        "transformations = transforms.Compose(\n",
        "        [transforms.Resize(list(image_size)),\n",
        "            transforms.Grayscale(num_output_channels=1), transforms.ToTensor(),\n",
        "         transforms.Normalize(mean=[0.5], std=[0.5])])"
      ],
      "execution_count": null,
      "outputs": []
    },
    {
      "cell_type": "markdown",
      "metadata": {
        "id": "2WpDKir7PheQ"
      },
      "source": [
        "### 1 Mark -> Load the dataset with the defined transformations\n",
        "\n",
        "PyTorch includes a package called torchvision which is used to load and prepare the dataset. It includes two basic functions namely Dataset and DataLoader which helps in transformation and loading of dataset.\n",
        "\n",
        "1. Dataset is used to read and transform a datapoint from the given dataset.  Note that, the data is not loaded on memory by now.\n",
        "\n",
        "2. DataLoader is used to shuffle and batch the data. It can be used to load the data in parallel with multiprocessing workers.The Data loader reads the data and puts it into memory.\n",
        "\n",
        "\n",
        "\n",
        "[Hint](https://pytorch.org/tutorials/beginner/data_loading_tutorial.html)"
      ]
    },
    {
      "cell_type": "code",
      "metadata": {
        "id": "ls6gI08XH2ak"
      },
      "source": [
        "batch_size = 100\n",
        "\n",
        "train_set = datasets.ImageFolder('/content/Cat_Dog_data/train', transform = transformations)\n",
        "\n",
        "# YOUR CODE HERE for the DataLoader\n",
        "train_loader = torch.utils.data.DataLoader(train_set, batch_size=batch_size, shuffle=True, num_workers=10)"
      ],
      "execution_count": null,
      "outputs": []
    },
    {
      "cell_type": "code",
      "metadata": {
        "id": "HFMYzFVvm-EN",
        "colab": {
          "base_uri": "https://localhost:8080/",
          "height": 50
        },
        "outputId": "218e2072-4bd4-40bd-b648-f2f97d01dd8c"
      },
      "source": [
        "# Get input/output from data loader\n",
        "for (X_train, y_train) in train_loader:\n",
        "    print('X_train:', X_train.size(), 'type:', X_train.type())\n",
        "    print('y_train:', y_train.size(), 'type:', y_train.type())\n",
        "    break"
      ],
      "execution_count": null,
      "outputs": [
        {
          "output_type": "stream",
          "text": [
            "X_train: torch.Size([100, 1, 128, 128]) type: torch.FloatTensor\n",
            "y_train: torch.Size([100]) type: torch.LongTensor\n"
          ],
          "name": "stdout"
        }
      ]
    },
    {
      "cell_type": "markdown",
      "metadata": {
        "id": "xPkXumN5P1ed"
      },
      "source": [
        "### 3 Marks -> Plot the first 5 images of Cats and 5 images of Dogs"
      ]
    },
    {
      "cell_type": "code",
      "metadata": {
        "id": "2SeTUS2cPwSL",
        "colab": {
          "base_uri": "https://localhost:8080/",
          "height": 118
        },
        "outputId": "98fe3523-3a9f-4b6e-98d7-7d32acfb03c6"
      },
      "source": [
        "# YOUR CODE HERE for plotting the images\n",
        "pltsize=1\n",
        "plt.figure(figsize=(15*pltsize, pltsize))\n",
        "\n",
        "for i in range(10):\n",
        "    plt.subplot(1,10,i+1)\n",
        "    plt.axis('off')\n",
        "    plt.imshow(X_train[i,:,:,:].numpy().reshape(128,128), cmap=\"gray\")\n",
        "    plt.title('Class:'+str(y_train[i].numpy()))"
      ],
      "execution_count": null,
      "outputs": [
        {
          "output_type": "display_data",
          "data": {
            "image/png": "[encoded data removed]",
            "text/plain": [
              "<Figure size 1080x72 with 10 Axes>"
            ]
          },
          "metadata": {
            "tags": []
          }
        },
        {
          "output_type": "stream",
          "text": [
            "time: 387 ms\n"
          ],
          "name": "stdout"
        }
      ]
    },
    {
      "cell_type": "markdown",
      "metadata": {
        "id": "m9Yv-pcJVHYh"
      },
      "source": [
        "## **Stage2:** CNN Model\n",
        "\n",
        "Neural Networks are inherited from the nn.Module class.\n",
        "\n",
        "Define a neural network by using two functions \\__init__ and forward function.\n",
        "\n",
        "1. In the \\__init__  function, perform a series of convolutions and pooling operations to detect the features. Apply fully connected layer on top of these features. Apply LogSoftmax at the output layer to improve the performance.\n",
        "\n",
        "2. The forward function is called on the Neural Network which takes the inputs and passes through the different layers that have been defined in the \\__init__.  The output of both convolution and pooling layers are 3D whereas fully connected layer expects a 1D vector of numbers. So flatten the output of the final pooling layer to a vector and that becomes the input to the fully connected layer.\n",
        "\n",
        "[Hint](https://medium.com/ml2vec/intro-to-pytorch-with-image-classification-on-a-fashion-clothes-dataset-e589682df0c5)\n",
        "\n"
      ]
    },
    {
      "cell_type": "markdown",
      "metadata": {
        "id": "OvZJHX_CahM9"
      },
      "source": [
        "### 6 Marks -> Create CNN Model\n"
      ]
    },
    {
      "cell_type": "code",
      "metadata": {
        "id": "qsCOPyfABc7E"
      },
      "source": [
        "# class CNNModel(nn.Module):\n",
        "#     def __init__(self):\n",
        "#         super(CNNModel, self).__init__()\n",
        "\n",
        "#         # Convolution Layer 1\n",
        "#         self.cnn1 = nn.Conv2d(in_channels=1, out_channels=16, kernel_size=3, stride=1, padding=2) # output size of the first convolutional layer is 16*128*128\n",
        "#         self.bn1 = nn.BatchNorm2d(16)\n",
        "#         self.relu1 = nn.ReLU()\n",
        "#         # Maxpool for the Convolutional Layer 1\n",
        "#         self.maxpool1 = nn.MaxPool2d(kernel_size=4, stride=4) # Maxpooling reduces the size by kernel size. After Maxpooling the output size is 16*32*32\n",
        "\n",
        "\n",
        "#         # YOUR CODE HERE for defining more number of Convolutional layers with Maxpool as required (Hint: Use atleast 3 convolutional layer for better performance)\n",
        "#         self.cnn2 = nn.Conv2d(in_channels=1, out_channels=16, kernel_size=3, stride=1, padding=2) # output size of the first convolutional layer is 16*32*32\n",
        "#         self.bn2 = nn.BatchNorm2d(16)\n",
        "#         self.relu2 = nn.ReLU()\n",
        "#         # Maxpool for the Convolutional Layer 2\n",
        "#         self.maxpool2 = nn.MaxPool2d(kernel_size=1, stride=4) # Maxpooling reduces the size by kernel size. After Maxpooling the output size is 16*32*32\n",
        "\n",
        "\n",
        "#         self.cnn3 = nn.Conv2d(in_channels=1, out_channels=16, kernel_size=3, stride=1, padding=2) # output size of the first convolutional layer is 16*32*32\n",
        "#         self.bn3 = nn.BatchNorm2d(16)\n",
        "#         self.relu3 = nn.ReLU()\n",
        "#         # Maxpool for the Convolutional Layer 3\n",
        "#         self.maxpool3 = nn.MaxPool2d(kernel_size=1, stride=4) # Maxpooling reduces the size by kernel size. After Maxpooling the output size is 16*32*32\n",
        "\n",
        "\n",
        "\n",
        "#         # YOUR CODE HERE for defining the Fully Connected Layer and also define LogSoftmax\n",
        "#         self.fc3 = nn.Linear(32, 2)\n",
        "\n",
        "\n",
        "\n",
        "\n",
        "#     def forward(self, x):\n",
        "#         # Convolution Layer 1 and Maxpool\n",
        "#         out = self.cnn1(x)\n",
        "#         out = self.bn1(out)\n",
        "#         out = self.relu1(out)\n",
        "#         out = self.maxpool1(out)\n",
        "\n",
        "#         # YOUR CODE HERE for the Convolutional Layers and Maxpool based on the defined Convolutional layers\n",
        "\n",
        "\n",
        "\n",
        "\n",
        "#         # YOUR CODE HERE for flattening the output of the final pooling layer to a vector. Flattening is simply arranging the 3D volume of numbers into a 1D vector\n",
        "#         # out = flatten(out)\n",
        "\n",
        "\n",
        "\n",
        "\n",
        "#         # YOUR CODE HERE for returning the output of LogSoftmax after applying Fully Connected Layer\n",
        "#         return F.log_softmax(self.fc3(out), dim=1)\n",
        "\n",
        "\n",
        "\n",
        ""
      ],
      "execution_count": null,
      "outputs": []
    },
    {
      "cell_type": "code",
      "metadata": {
        "id": "n13ZCeAqVTW4",
        "colab": {
          "base_uri": "https://localhost:8080/",
          "height": 34
        },
        "outputId": "ba168c97-ad58-4336-d021-b5df750cbd5c"
      },
      "source": [
        "class Flatten(torch.nn.Module):\n",
        "    def forward(self, input):\n",
        "        return input.view(input.size(0), -1)"
      ],
      "execution_count": null,
      "outputs": [
        {
          "output_type": "stream",
          "text": [
            "time: 2.23 ms\n"
          ],
          "name": "stdout"
        }
      ]
    },
    {
      "cell_type": "code",
      "metadata": {
        "id": "VnRgXOL1LaqO",
        "colab": {
          "base_uri": "https://localhost:8080/",
          "height": 34
        },
        "outputId": "81eab461-bab9-4e8b-af3c-60637b1ea935"
      },
      "source": [
        "class CNN(nn.Module):\n",
        "    def __init__(self):\n",
        "        super(CNN, self).__init__()\n",
        "\n",
        "        # Convolutional Layers\n",
        "        self.layer1 = nn.Sequential(\n",
        "            nn.Conv2d(1, 16, kernel_size=5, padding=2),\n",
        "            nn.BatchNorm2d(16),\n",
        "            nn.ReLU(),\n",
        "            nn.MaxPool2d(2))\n",
        "        self.layer2 = nn.Sequential(\n",
        "            nn.Conv2d(16, 32, kernel_size=5, padding=2),\n",
        "            nn.BatchNorm2d(32),\n",
        "            nn.ReLU(),\n",
        "            nn.MaxPool2d(2))\n",
        "        self.layer3 = nn.Sequential(\n",
        "            nn.Conv2d(32, 64, kernel_size=5, padding=2),\n",
        "            nn.BatchNorm2d(64),\n",
        "            nn.ReLU(),\n",
        "            nn.MaxPool2d(2))\n",
        "        self.layer4 = nn.Sequential(\n",
        "            nn.Conv2d(64, 128, kernel_size=5, padding=2),\n",
        "            nn.BatchNorm2d(128),\n",
        "            nn.ReLU(),\n",
        "            nn.MaxPool2d(2))\n",
        "        self.layer5 = nn.Sequential(\n",
        "            nn.Conv2d(128, 128, kernel_size=5, padding=2),\n",
        "            nn.BatchNorm2d(128),\n",
        "            nn.ReLU(),\n",
        "            nn.MaxPool2d(2))\n",
        "\n",
        "        # Dropout to avoid overfitting\n",
        "        self.drop_out = nn.Dropout()\n",
        "\n",
        "        # Fully connected layers\n",
        "        self.fc1 = nn.Linear(4*4*128, 512)\n",
        "        self.fc2 = nn.Linear(512, 2)\n",
        "\n",
        "    def forward(self, x):\n",
        "        out = self.layer1(x)\n",
        "        out = self.layer2(out)\n",
        "        out = self.layer3(out)\n",
        "        out = self.layer4(out)\n",
        "        out = self.layer5(out)\n",
        "\n",
        "        # Flatten\n",
        "        out = out.view(out.size(0), -1)\n",
        "\n",
        "        out = self.drop_out(out)\n",
        "        out = self.fc1(out)\n",
        "        out = self.fc2(out)\n",
        "        return out"
      ],
      "execution_count": null,
      "outputs": [
        {
          "output_type": "stream",
          "text": [
            "time: 42.8 ms\n"
          ],
          "name": "stdout"
        }
      ]
    },
    {
      "cell_type": "markdown",
      "metadata": {
        "id": "YmpdBc4mabIo"
      },
      "source": [
        "### 2 Marks -> Declaring the loss function and optimizer\n"
      ]
    },
    {
      "cell_type": "code",
      "metadata": {
        "id": "Wkt8lKQtCIWD",
        "colab": {
          "base_uri": "https://localhost:8080/",
          "height": 622
        },
        "outputId": "0749edc1-ad2a-47d6-b230-e3bcd0194379"
      },
      "source": [
        "model = CNN()\n",
        "model = model.to(device)\n",
        "print(model)\n",
        "\n",
        "#criterion = # YOUR CODE HERE : Explore and declare loss function\n",
        "# loss_fn = torch.nn.BCELoss()\n",
        "loss_fn = torch.nn.CrossEntropyLoss()\n",
        "\n",
        "#optimizer = # YOUR CODE HERE : Explore on optimizer and define with the learning rate\n",
        "# optimizer = optim.SGD(model.parameters(), lr=0.01, momentum=0.5)\n",
        "learning_rate = 0.001;\n",
        "optimizer = torch.optim.Adam(model.parameters(), lr=learning_rate);\n"
      ],
      "execution_count": null,
      "outputs": [
        {
          "output_type": "stream",
          "text": [
            "CNN(\n",
            "  (layer1): Sequential(\n",
            "    (0): Conv2d(1, 16, kernel_size=(5, 5), stride=(1, 1), padding=(2, 2))\n",
            "    (1): BatchNorm2d(16, eps=1e-05, momentum=0.1, affine=True, track_running_stats=True)\n",
            "    (2): ReLU()\n",
            "    (3): MaxPool2d(kernel_size=2, stride=2, padding=0, dilation=1, ceil_mode=False)\n",
            "  )\n",
            "  (layer2): Sequential(\n",
            "    (0): Conv2d(16, 32, kernel_size=(5, 5), stride=(1, 1), padding=(2, 2))\n",
            "    (1): BatchNorm2d(32, eps=1e-05, momentum=0.1, affine=True, track_running_stats=True)\n",
            "    (2): ReLU()\n",
            "    (3): MaxPool2d(kernel_size=2, stride=2, padding=0, dilation=1, ceil_mode=False)\n",
            "  )\n",
            "  (layer3): Sequential(\n",
            "    (0): Conv2d(32, 64, kernel_size=(5, 5), stride=(1, 1), padding=(2, 2))\n",
            "    (1): BatchNorm2d(64, eps=1e-05, momentum=0.1, affine=True, track_running_stats=True)\n",
            "    (2): ReLU()\n",
            "    (3): MaxPool2d(kernel_size=2, stride=2, padding=0, dilation=1, ceil_mode=False)\n",
            "  )\n",
            "  (layer4): Sequential(\n",
            "    (0): Conv2d(64, 128, kernel_size=(5, 5), stride=(1, 1), padding=(2, 2))\n",
            "    (1): BatchNorm2d(128, eps=1e-05, momentum=0.1, affine=True, track_running_stats=True)\n",
            "    (2): ReLU()\n",
            "    (3): MaxPool2d(kernel_size=2, stride=2, padding=0, dilation=1, ceil_mode=False)\n",
            "  )\n",
            "  (layer5): Sequential(\n",
            "    (0): Conv2d(128, 128, kernel_size=(5, 5), stride=(1, 1), padding=(2, 2))\n",
            "    (1): BatchNorm2d(128, eps=1e-05, momentum=0.1, affine=True, track_running_stats=True)\n",
            "    (2): ReLU()\n",
            "    (3): MaxPool2d(kernel_size=2, stride=2, padding=0, dilation=1, ceil_mode=False)\n",
            "  )\n",
            "  (drop_out): Dropout(p=0.5, inplace=False)\n",
            "  (fc1): Linear(in_features=2048, out_features=512, bias=True)\n",
            "  (fc2): Linear(in_features=512, out_features=2, bias=True)\n",
            ")\n",
            "time: 9.18 s\n"
          ],
          "name": "stdout"
        }
      ]
    },
    {
      "cell_type": "markdown",
      "metadata": {
        "id": "ZLSCK_iRgyHA"
      },
      "source": [
        "### 5 Marks -> Train the Model and validate it continuously to calculate the loss and accuracy for dataset across each epoch.\n",
        "\n",
        "Iterate over images in the train_loader and perform the following steps.\n",
        "\n",
        "1. First we zero out the gradients using zero_grad()\n",
        "\n",
        "2. We pass the data to the model\n",
        "\n",
        "3. We calculate the loss using Loss function\n",
        "\n",
        "4. Perform Backward pass using backward() to update the weights\n",
        "\n",
        "5. Optimize and predict by using the torch.max()\n",
        "\n",
        "6. Calculate the accuracy of the train dataset\n",
        "\n",
        "[Hint](https://medium.com/ml2vec/intro-to-pytorch-with-image-classification-on-a-fashion-clothes-dataset-e589682df0c5)"
      ]
    },
    {
      "cell_type": "code",
      "metadata": {
        "id": "2Ot89MxKavVy",
        "colab": {
          "base_uri": "https://localhost:8080/",
          "height": 34
        },
        "outputId": "1c1961d0-f496-48e0-c4f4-09c17a676d3a"
      },
      "source": [
        "# YOUR CODE HERE. This will take time\n",
        "\n",
        "# Record loss and accuracy of the train dataset\n",
        "def train(epoch, log_interval=100):\n",
        "    for batch_idx, (data, target) in enumerate(train_loader):\n",
        "        data = Variable(data.float())\n",
        "        target = Variable(target)\n",
        "        data, target = data.to(device), target.to(device)\n",
        "        optimizer.zero_grad()\n",
        "        output = model(data)\n",
        "        loss = loss_fn(output, target)\n",
        "        loss.backward()\n",
        "        optimizer.step()\n",
        "\n",
        "        # Track the accuracy\n",
        "        total = target.size(0)\n",
        "        _, predicted = torch.max(output.data, 1)\n",
        "        correct = (predicted == target).sum().item()\n",
        "\n",
        "        if batch_idx % log_interval == 0:\n",
        "            print('Train Epoch: {} [{}/{} ({:.0f}%)]\\tLoss: {:.6f}\\tAccuracy: {:.2f}%'.format(\n",
        "                epoch, batch_idx * len(data), len(train_loader.dataset),\n",
        "                100. * batch_idx / len(train_loader), loss.item(), (correct / total) * 100))\n",
        ""
      ],
      "execution_count": null,
      "outputs": [
        {
          "output_type": "stream",
          "text": [
            "time: 16 ms\n"
          ],
          "name": "stdout"
        }
      ]
    },
    {
      "cell_type": "code",
      "metadata": {
        "id": "TT0g_XSTDoge",
        "colab": {
          "base_uri": "https://localhost:8080/",
          "height": 571
        },
        "outputId": "ed55bda1-47ff-4144-d0ec-30abd095cd17"
      },
      "source": [
        "%%time\n",
        "epochs = 10\n",
        "lossv, accv = [], []\n",
        "for epoch in range(1, epochs+1):\n",
        "    train(epoch)\n",
        "    # test(lossv, accv)"
      ],
      "execution_count": null,
      "outputs": [
        {
          "output_type": "stream",
          "text": [
            "Train Epoch: 1 [0/22500 (0%)]\tLoss: 0.708070\tAccuracy: 54.00%\n",
            "Train Epoch: 1 [10000/22500 (44%)]\tLoss: 0.704180\tAccuracy: 59.00%\n",
            "Train Epoch: 1 [20000/22500 (89%)]\tLoss: 0.540300\tAccuracy: 72.00%\n",
            "Train Epoch: 2 [0/22500 (0%)]\tLoss: 0.528551\tAccuracy: 76.00%\n",
            "Train Epoch: 2 [10000/22500 (44%)]\tLoss: 0.382834\tAccuracy: 82.00%\n",
            "Train Epoch: 2 [20000/22500 (89%)]\tLoss: 0.395349\tAccuracy: 83.00%\n",
            "Train Epoch: 3 [0/22500 (0%)]\tLoss: 0.357758\tAccuracy: 88.00%\n",
            "Train Epoch: 3 [10000/22500 (44%)]\tLoss: 0.281824\tAccuracy: 87.00%\n",
            "Train Epoch: 3 [20000/22500 (89%)]\tLoss: 0.316429\tAccuracy: 89.00%\n",
            "Train Epoch: 4 [0/22500 (0%)]\tLoss: 0.234762\tAccuracy: 93.00%\n",
            "Train Epoch: 4 [10000/22500 (44%)]\tLoss: 0.333062\tAccuracy: 86.00%\n",
            "Train Epoch: 4 [20000/22500 (89%)]\tLoss: 0.470234\tAccuracy: 79.00%\n",
            "Train Epoch: 5 [0/22500 (0%)]\tLoss: 0.287127\tAccuracy: 86.00%\n",
            "Train Epoch: 5 [10000/22500 (44%)]\tLoss: 0.207264\tAccuracy: 89.00%\n",
            "Train Epoch: 5 [20000/22500 (89%)]\tLoss: 0.286171\tAccuracy: 88.00%\n",
            "Train Epoch: 6 [0/22500 (0%)]\tLoss: 0.264357\tAccuracy: 89.00%\n",
            "Train Epoch: 6 [10000/22500 (44%)]\tLoss: 0.341040\tAccuracy: 87.00%\n",
            "Train Epoch: 6 [20000/22500 (89%)]\tLoss: 0.202337\tAccuracy: 90.00%\n",
            "Train Epoch: 7 [0/22500 (0%)]\tLoss: 0.199103\tAccuracy: 89.00%\n",
            "Train Epoch: 7 [10000/22500 (44%)]\tLoss: 0.181748\tAccuracy: 91.00%\n",
            "Train Epoch: 7 [20000/22500 (89%)]\tLoss: 0.206862\tAccuracy: 93.00%\n",
            "Train Epoch: 8 [0/22500 (0%)]\tLoss: 0.147288\tAccuracy: 94.00%\n",
            "Train Epoch: 8 [10000/22500 (44%)]\tLoss: 0.142769\tAccuracy: 96.00%\n",
            "Train Epoch: 8 [20000/22500 (89%)]\tLoss: 0.107294\tAccuracy: 95.00%\n",
            "Train Epoch: 9 [0/22500 (0%)]\tLoss: 0.108961\tAccuracy: 96.00%\n",
            "Train Epoch: 9 [10000/22500 (44%)]\tLoss: 0.134927\tAccuracy: 96.00%\n",
            "Train Epoch: 9 [20000/22500 (89%)]\tLoss: 0.122699\tAccuracy: 95.00%\n",
            "Train Epoch: 10 [0/22500 (0%)]\tLoss: 0.058917\tAccuracy: 97.00%\n",
            "Train Epoch: 10 [10000/22500 (44%)]\tLoss: 0.058895\tAccuracy: 97.00%\n",
            "Train Epoch: 10 [20000/22500 (89%)]\tLoss: 0.079809\tAccuracy: 97.00%\n",
            "CPU times: user 44 s, sys: 7.69 s, total: 51.7 s\n",
            "Wall time: 12min 34s\n",
            "time: 12min 34s\n"
          ],
          "name": "stdout"
        }
      ]
    },
    {
      "cell_type": "code",
      "metadata": {
        "id": "KJl_Z2O67bi9",
        "colab": {
          "base_uri": "https://localhost:8080/",
          "height": 34
        },
        "outputId": "ad67cc88-1cf1-4871-f3cc-ea8ae200df4f"
      },
      "source": [
        "# Save model\n",
        "torch.save(model.state_dict(), 'conv_net_model.ckpt')"
      ],
      "execution_count": null,
      "outputs": [
        {
          "output_type": "stream",
          "text": [
            "time: 32.2 ms\n"
          ],
          "name": "stdout"
        }
      ]
    },
    {
      "cell_type": "code",
      "metadata": {
        "id": "gRJCOlq-706V",
        "colab": {
          "base_uri": "https://localhost:8080/",
          "height": 605
        },
        "outputId": "81ff30bc-e19a-43c5-b646-fdcfaf0ec440"
      },
      "source": [
        "# Load the model\n",
        "loaded_model = CNN()\n",
        "loaded_model.load_state_dict(torch.load('conv_net_model.ckpt'))\n",
        "loaded_model.eval()"
      ],
      "execution_count": null,
      "outputs": [
        {
          "output_type": "execute_result",
          "data": {
            "text/plain": [
              "CNN(\n",
              "  (layer1): Sequential(\n",
              "    (0): Conv2d(1, 16, kernel_size=(5, 5), stride=(1, 1), padding=(2, 2))\n",
              "    (1): BatchNorm2d(16, eps=1e-05, momentum=0.1, affine=True, track_running_stats=True)\n",
              "    (2): ReLU()\n",
              "    (3): MaxPool2d(kernel_size=2, stride=2, padding=0, dilation=1, ceil_mode=False)\n",
              "  )\n",
              "  (layer2): Sequential(\n",
              "    (0): Conv2d(16, 32, kernel_size=(5, 5), stride=(1, 1), padding=(2, 2))\n",
              "    (1): BatchNorm2d(32, eps=1e-05, momentum=0.1, affine=True, track_running_stats=True)\n",
              "    (2): ReLU()\n",
              "    (3): MaxPool2d(kernel_size=2, stride=2, padding=0, dilation=1, ceil_mode=False)\n",
              "  )\n",
              "  (layer3): Sequential(\n",
              "    (0): Conv2d(32, 64, kernel_size=(5, 5), stride=(1, 1), padding=(2, 2))\n",
              "    (1): BatchNorm2d(64, eps=1e-05, momentum=0.1, affine=True, track_running_stats=True)\n",
              "    (2): ReLU()\n",
              "    (3): MaxPool2d(kernel_size=2, stride=2, padding=0, dilation=1, ceil_mode=False)\n",
              "  )\n",
              "  (layer4): Sequential(\n",
              "    (0): Conv2d(64, 128, kernel_size=(5, 5), stride=(1, 1), padding=(2, 2))\n",
              "    (1): BatchNorm2d(128, eps=1e-05, momentum=0.1, affine=True, track_running_stats=True)\n",
              "    (2): ReLU()\n",
              "    (3): MaxPool2d(kernel_size=2, stride=2, padding=0, dilation=1, ceil_mode=False)\n",
              "  )\n",
              "  (layer5): Sequential(\n",
              "    (0): Conv2d(128, 128, kernel_size=(5, 5), stride=(1, 1), padding=(2, 2))\n",
              "    (1): BatchNorm2d(128, eps=1e-05, momentum=0.1, affine=True, track_running_stats=True)\n",
              "    (2): ReLU()\n",
              "    (3): MaxPool2d(kernel_size=2, stride=2, padding=0, dilation=1, ceil_mode=False)\n",
              "  )\n",
              "  (drop_out): Dropout(p=0.5, inplace=False)\n",
              "  (fc1): Linear(in_features=2048, out_features=512, bias=True)\n",
              "  (fc2): Linear(in_features=512, out_features=2, bias=True)\n",
              ")"
            ]
          },
          "metadata": {
            "tags": []
          },
          "execution_count": 18
        },
        {
          "output_type": "stream",
          "text": [
            "time: 42.3 ms\n"
          ],
          "name": "stdout"
        }
      ]
    },
    {
      "cell_type": "markdown",
      "metadata": {
        "id": "K5BJIQzgHa0k"
      },
      "source": [
        "## **Stage 3:** Testing Evaluation for CNN model\n",
        "\n",
        "### Expected performance of test evaluation is above 90%"
      ]
    },
    {
      "cell_type": "markdown",
      "metadata": {
        "id": "T_kKqw_drYXk"
      },
      "source": [
        "### 5 Marks -> Evaluate model with the given test data\n",
        "\n",
        "1. Transform and load the test images.\n",
        "\n",
        "2. Pass the test images through the model (network) to get the outputs\n",
        "\n",
        "3. Get the predictions from maximum value using torch.max\n",
        "\n",
        "4. Compare with the actual labels and get the count\n",
        "\n",
        "5. Calculate the accuracy\n",
        "\n",
        "[Hint](https://medium.com/ml2vec/intro-to-pytorch-with-image-classification-on-a-fashion-clothes-dataset-e589682df0c5)"
      ]
    },
    {
      "cell_type": "code",
      "metadata": {
        "id": "WmBoDOeptJfe"
      },
      "source": [
        "val_set = datasets.ImageFolder('/content/Cat_Dog_data/test',transform = transformations)\n",
        "\n",
        "# YOUR CODE HERE for the DataLoader\n",
        "test_loader = torch.utils.data.DataLoader(val_set, batch_size=batch_size, shuffle=True, num_workers=10)"
      ],
      "execution_count": null,
      "outputs": []
    },
    {
      "cell_type": "code",
      "metadata": {
        "id": "1bKahg_40vS0",
        "colab": {
          "base_uri": "https://localhost:8080/",
          "height": 50
        },
        "outputId": "2e16e823-a140-4262-af01-5637f1669946"
      },
      "source": [
        "# Get input/output from data loader\n",
        "for (X_test, y_test) in test_loader:\n",
        "    print('X_test:', X_test.size(), 'type:', X_test.type())\n",
        "    print('y_test:', y_test.size(), 'type:', y_test.type())\n",
        "    break"
      ],
      "execution_count": null,
      "outputs": [
        {
          "output_type": "stream",
          "text": [
            "X_test: torch.Size([100, 1, 128, 128]) type: torch.FloatTensor\n",
            "y_test: torch.Size([100]) type: torch.LongTensor\n"
          ],
          "name": "stdout"
        }
      ]
    },
    {
      "cell_type": "code",
      "metadata": {
        "id": "fPZCUolhaE2v",
        "colab": {
          "base_uri": "https://localhost:8080/",
          "height": 50
        },
        "outputId": "307b0c4f-35e9-470c-ba4e-ceb14bf7caf6"
      },
      "source": [
        "# YOUR CODE HERE for calculating the accuracy\n",
        "loaded_model.eval()\n",
        "correct = 0\n",
        "total = 0\n",
        "for images, labels in test_loader:\n",
        "    images = Variable(images.float())\n",
        "    # images, labels = images.to(device), labels.to(device)\n",
        "    outputs = loaded_model(images)\n",
        "    _, predicted = torch.max(outputs.data, 1)\n",
        "    total += labels.size(0)\n",
        "    correct += (predicted == labels).sum()\n",
        "print('Test Accuracy of the model on test images: %.4f %%' % (100 * correct / total))"
      ],
      "execution_count": null,
      "outputs": [
        {
          "output_type": "stream",
          "text": [
            "Test Accuracy of the model on test images: 86.0000 %\n",
            "time: 34.8 s\n"
          ],
          "name": "stdout"
        }
      ]
    },
    {
      "cell_type": "code",
      "metadata": {
        "id": "4QfEWRU11OQQ",
        "colab": {
          "base_uri": "https://localhost:8080/",
          "height": 50
        },
        "outputId": "64b587a4-9d7d-47eb-c61e-f7cf1d485dcc"
      },
      "source": [
        "print(correct, total)"
      ],
      "execution_count": null,
      "outputs": [
        {
          "output_type": "stream",
          "text": [
            "tensor(2173) 2500\n",
            "time: 2.77 ms\n"
          ],
          "name": "stdout"
        }
      ]
    },
    {
      "cell_type": "markdown",
      "metadata": {
        "id": "v8iF7ttzblwq"
      },
      "source": [
        "## **Stage 4:** Classify the model using different Classifiers\n"
      ]
    },
    {
      "cell_type": "code",
      "metadata": {
        "id": "dAzhH7vCczy_"
      },
      "source": [
        "# # Loading the model for the entire dataset. This will take more time for loading.\n",
        "train_Class = torch.utils.data.DataLoader(train_set)\n",
        "test_loader1 = torch.utils.data.DataLoader(val_set)\n",
        "x_train =[]\n",
        "y_train=[]\n",
        "x_test=[]\n",
        "y_test=[]\n",
        "for data,target in train_Class:\n",
        "  x_train.append(data.numpy())\n",
        "  y_train.append(target.numpy())\n",
        "for data, target in test_loader1:\n",
        "  x_test.append(data.numpy())\n",
        "  y_test.append(target.numpy())"
      ],
      "execution_count": null,
      "outputs": []
    },
    {
      "cell_type": "code",
      "metadata": {
        "id": "87uwP4GCy117"
      },
      "source": [
        "import numpy as np\n",
        "x_train=np.array(x_train)\n",
        "x_test=np.array(x_test)"
      ],
      "execution_count": null,
      "outputs": []
    },
    {
      "cell_type": "code",
      "metadata": {
        "id": "iuFuPq940MCs"
      },
      "source": [
        "x_train.shape\n",
        "x_train = x_train.reshape(22500,128*128)\n",
        "x_test = x_test.reshape(2500,128*128)"
      ],
      "execution_count": null,
      "outputs": []
    },
    {
      "cell_type": "code",
      "metadata": {
        "id": "hlJ6Uuo30oZz",
        "colab": {
          "base_uri": "https://localhost:8080/",
          "height": 34
        },
        "outputId": "80eae0f5-1837-4769-88cf-f404ce0966ba"
      },
      "source": [
        "x_test.shape"
      ],
      "execution_count": null,
      "outputs": [
        {
          "output_type": "execute_result",
          "data": {
            "text/plain": [
              "(2500, 1, 1, 128, 128)"
            ]
          },
          "metadata": {
            "tags": []
          },
          "execution_count": 105
        },
        {
          "output_type": "stream",
          "text": [
            "time: 3.87 ms\n"
          ],
          "name": "stdout"
        }
      ]
    },
    {
      "cell_type": "code",
      "metadata": {
        "id": "ZzvaQDiZEC1n",
        "colab": {
          "base_uri": "https://localhost:8080/",
          "height": 34
        },
        "outputId": "9253f9ea-a8fc-4b1e-9129-7148b85e9a25"
      },
      "source": [
        "import pickle\n",
        "pickle.dump(x_train, open('x_train.pkl', 'wb'))\n",
        "pickle.dump(y_train, open('y_train.pkl', 'wb'))\n",
        "pickle.dump(x_test, open('x_test.pkl', 'wb'))\n",
        "pickle.dump(y_test, open('y_test.pkl', 'wb'))"
      ],
      "execution_count": null,
      "outputs": [
        {
          "output_type": "stream",
          "text": [
            "time: 598 ms\n"
          ],
          "name": "stdout"
        }
      ]
    },
    {
      "cell_type": "markdown",
      "metadata": {
        "id": "Sm5jlz3QfT1H"
      },
      "source": [
        "### 5 Marks -> Use different algorithms (atleast 5 algorithms) for predicting the performance"
      ]
    },
    {
      "cell_type": "code",
      "metadata": {
        "id": "g7JkWtyig2Cz"
      },
      "source": [
        "from sklearn.svm import SVC\n",
        "from sklearn.ensemble import BaggingClassifier, RandomForestClassifier\n",
        "from sklearn.metrics import accuracy_score\n",
        "from skimage.io import imread, imshow\n",
        "from skimage.transform import rescale, resize, downscale_local_mean\n",
        "from sklearn.neural_network import MLPClassifier\n",
        "from sklearn.tree import DecisionTreeClassifier\n",
        "import glob"
      ],
      "execution_count": null,
      "outputs": []
    },
    {
      "cell_type": "code",
      "metadata": {
        "id": "O6uBiK_Ot7_H"
      },
      "source": [
        "#function to calculate the accuracy\n",
        "def accuracy(actual,predicted):\n",
        "    return accuracy_score(actual,predicted, normalize=True)"
      ],
      "execution_count": null,
      "outputs": []
    },
    {
      "cell_type": "code",
      "metadata": {
        "id": "4bd1M1PTw7L7"
      },
      "source": [
        "# Common method to train/test and print accuracies for both\n",
        "def train_test(model):\n",
        "  model.fit(x_train, y_train)\n",
        "  y_train_predicted = model.predict(x_train)\n",
        "  y_test_predicted = model.predict(x_test)\n",
        "  print(\"Model:\", model)\n",
        "  print(\"Training accuracy : \", accuracy(y_train,y_train_predicted))\n",
        "  print(\"Test accuracy : \", accuracy(y_test,y_test_predicted))"
      ],
      "execution_count": null,
      "outputs": []
    },
    {
      "cell_type": "code",
      "metadata": {
        "id": "l9-Z4jDexBJ6",
        "colab": {
          "base_uri": "https://localhost:8080/",
          "height": 255
        },
        "outputId": "8f0ce188-6dd1-492b-a229-a8c07185e7a9"
      },
      "source": [
        "# RandomForest\n",
        "rf_model = RandomForestClassifier(n_estimators=100, random_state=0)\n",
        "train_test(rf_model)"
      ],
      "execution_count": null,
      "outputs": [
        {
          "output_type": "stream",
          "text": [
            "/usr/local/lib/python3.6/dist-packages/ipykernel_launcher.py:2: DataConversionWarning: A column-vector y was passed when a 1d array was expected. Please change the shape of y to (n_samples,), for example using ravel().\n",
            "  \n"
          ],
          "name": "stderr"
        },
        {
          "output_type": "stream",
          "text": [
            "Model: RandomForestClassifier(bootstrap=True, ccp_alpha=0.0, class_weight=None,\n",
            "                       criterion='gini', max_depth=None, max_features='auto',\n",
            "                       max_leaf_nodes=None, max_samples=None,\n",
            "                       min_impurity_decrease=0.0, min_impurity_split=None,\n",
            "                       min_samples_leaf=1, min_samples_split=2,\n",
            "                       min_weight_fraction_leaf=0.0, n_estimators=100,\n",
            "                       n_jobs=None, oob_score=False, random_state=0, verbose=0,\n",
            "                       warm_start=False)\n",
            "Training accuracy :  1.0\n",
            "Test accuracy :  0.6448\n",
            "time: 4min 11s\n"
          ],
          "name": "stdout"
        }
      ]
    },
    {
      "cell_type": "code",
      "metadata": {
        "id": "v_XZpJoTyIpZ",
        "colab": {
          "base_uri": "https://localhost:8080/",
          "height": 151
        },
        "outputId": "766b21f3-f8f6-40fe-d130-e48f5613c95f"
      },
      "source": [
        "#DT Classifier\n",
        "dt_clf = DecisionTreeClassifier(max_depth=10)\n",
        "train_test(dt_clf)"
      ],
      "execution_count": null,
      "outputs": [
        {
          "output_type": "stream",
          "text": [
            "Model: DecisionTreeClassifier(ccp_alpha=0.0, class_weight=None, criterion='gini',\n",
            "                       max_depth=10, max_features=None, max_leaf_nodes=None,\n",
            "                       min_impurity_decrease=0.0, min_impurity_split=None,\n",
            "                       min_samples_leaf=1, min_samples_split=2,\n",
            "                       min_weight_fraction_leaf=0.0, presort='deprecated',\n",
            "                       random_state=None, splitter='best')\n",
            "Training accuracy :  0.7382666666666666\n",
            "Test accuracy :  0.582\n"
          ],
          "name": "stdout"
        }
      ]
    },
    {
      "cell_type": "code",
      "metadata": {
        "id": "dy5RroR8xz-B",
        "colab": {
          "base_uri": "https://localhost:8080/",
          "height": 272
        },
        "outputId": "595e6b32-c48c-4d13-c86a-515f36581697"
      },
      "source": [
        "# MLP Classifer\n",
        "mlp_cf = MLPClassifier(activation='relu' ,solver='adam' ,hidden_layer_sizes=(5,),max_iter = 100 ,learning_rate = 'constant',learning_rate_init=0.01)\n",
        "train_test(mlp_cf)"
      ],
      "execution_count": null,
      "outputs": [
        {
          "output_type": "stream",
          "text": [
            "/usr/local/lib/python3.6/dist-packages/sklearn/neural_network/_multilayer_perceptron.py:934: DataConversionWarning: A column-vector y was passed when a 1d array was expected. Please change the shape of y to (n_samples, ), for example using ravel().\n",
            "  y = column_or_1d(y, warn=True)\n",
            "/usr/local/lib/python3.6/dist-packages/sklearn/neural_network/_multilayer_perceptron.py:571: ConvergenceWarning: Stochastic Optimizer: Maximum iterations (100) reached and the optimization hasn't converged yet.\n",
            "  % self.max_iter, ConvergenceWarning)\n"
          ],
          "name": "stderr"
        },
        {
          "output_type": "stream",
          "text": [
            "Model: MLPClassifier(activation='relu', alpha=0.0001, batch_size='auto', beta_1=0.9,\n",
            "              beta_2=0.999, early_stopping=False, epsilon=1e-08,\n",
            "              hidden_layer_sizes=(5,), learning_rate='constant',\n",
            "              learning_rate_init=0.01, max_fun=15000, max_iter=100,\n",
            "              momentum=0.9, n_iter_no_change=10, nesterovs_momentum=True,\n",
            "              power_t=0.5, random_state=None, shuffle=True, solver='adam',\n",
            "              tol=0.0001, validation_fraction=0.1, verbose=False,\n",
            "              warm_start=False)\n",
            "Training accuracy :  0.9117777777777778\n",
            "Test accuracy :  0.5756\n"
          ],
          "name": "stdout"
        }
      ]
    },
    {
      "cell_type": "code",
      "metadata": {
        "id": "ROXIhs1tyW_u",
        "colab": {
          "base_uri": "https://localhost:8080/",
          "height": 70
        },
        "outputId": "d4293242-5558-4a73-861b-2aad4f7daa22"
      },
      "source": [
        "tree = DecisionTreeClassifier()\n",
        "bag = BaggingClassifier(tree, n_estimators=10, max_samples=0.8,\n",
        "                        random_state=1)\n",
        "train_test(bag)"
      ],
      "execution_count": null,
      "outputs": [
        {
          "output_type": "stream",
          "text": [
            "/usr/local/lib/python3.6/dist-packages/sklearn/ensemble/_bagging.py:645: DataConversionWarning: A column-vector y was passed when a 1d array was expected. Please change the shape of y to (n_samples, ), for example using ravel().\n",
            "  y = column_or_1d(y, warn=True)\n"
          ],
          "name": "stderr"
        }
      ]
    },
    {
      "cell_type": "code",
      "metadata": {
        "id": "5uQP0-I8ydUA"
      },
      "source": [
        "svm_clf = SVC(kernel='linear', C=0.1)\n",
        "train_test(svm_clf)"
      ],
      "execution_count": null,
      "outputs": []
    }
  ]
}