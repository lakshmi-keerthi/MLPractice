{
  "nbformat": 4,
  "nbformat_minor": 0,
  "metadata": {
    "colab": {
      "provenance": []
    },
    "kernelspec": {
      "name": "python3",
      "display_name": "Python 3"
    },
    "accelerator": "GPU"
  },
  "cells": [
    {
      "cell_type": "markdown",
      "metadata": {
        "id": "iaHNxUntdN6a"
      },
      "source": [
        "# Advanced Certification in AIML\n",
        "## A Program by IIIT-H and TalentSprint"
      ]
    },
    {
      "cell_type": "markdown",
      "metadata": {
        "id": "0pGc7xQ2dSRL"
      },
      "source": [
        "## Learning Objectives:\n",
        "\n",
        "At the end of the experiment, you will be able to :\n",
        "\n",
        "* Understand GAN\n",
        "* Generate fake images of MNIST dataset"
      ]
    },
    {
      "cell_type": "code",
      "metadata": {
        "id": "i5KClgCkqH5U",
        "cellView": "form"
      },
      "source": [
        "#@title Experiment Explanation Video\n",
        "from IPython.display import HTML\n",
        "\n",
        "HTML(\"\"\"<video width=\"800\" height=\"300\" controls>\n",
        "  <source src=\"https://cdn.talentsprint.com/talentsprint/archives/sc/aiml/aiml_labs/gan.mp4\" type=\"video/mp4\">\n",
        "</video>\n",
        "\"\"\")"
      ],
      "execution_count": null,
      "outputs": []
    },
    {
      "cell_type": "markdown",
      "metadata": {
        "id": "9NuRcSZydkL_"
      },
      "source": [
        "## Dataset"
      ]
    },
    {
      "cell_type": "markdown",
      "metadata": {
        "id": "5KqbKyGSdnuq"
      },
      "source": [
        "###Description\n",
        "\n",
        "We use the MNIST dataset for this experiment. Below are the details:\n",
        "\n",
        "1. The dataset contains 60,000 Handwritten digits as training samples and 10,000 Test samples,\n",
        "which means each digit occurs 6000 times in the training set and 1000 times in the testing set. (approximately).\n",
        "2. Each image is Size Normalized and Centered\n",
        "3. Each image is 28 X 28 Pixel with 0-255 Gray Scale Value.\n",
        "4. That means each image is represented as 784 (28 X28) dimension vector where each value is in the range 0- 255.\n",
        "\n",
        "### History\n",
        "\n",
        "Yann LeCun (Director of AI Research, Facebook, Courant Institute, NYU) was given the task of identifying the cheque numbers (in the 90’s) and the amount associated with that cheque without manual intervention. That is when this dataset was created which raised the bars and became a benchmark.\n",
        "\n",
        "Yann LeCun and Corinna Cortes (Google Labs, New York) hold the copyright of MNIST dataset, which is a subset of the original NIST datasets. This dataset is made available under the terms of the Creative Commons Attribution-Share Alike 3.0 license.\n",
        "\n",
        "It is the handwritten digits dataset in which half of them are written by the Census Bureau employees and remaining by the high school students. The digits collected among the Census Bureau employees are easier and cleaner to recognize than the digits collected among the students.\n",
        "\n"
      ]
    },
    {
      "cell_type": "markdown",
      "metadata": {
        "id": "MJu4cGUCdwTr"
      },
      "source": [
        "## Domain Information"
      ]
    },
    {
      "cell_type": "markdown",
      "metadata": {
        "id": "vMtA8wDddypU"
      },
      "source": [
        "\n",
        "Handwriting changes person to person. Some of us have neat handwriting and some have illegible handwriting such as doctors. However, if you think about it even a child who recognizes alphabets and numerics can identify the characters of a text even written by a stranger. But even a technically knowledgeable adult cannot describe the process by which he or she recognizes the text/letters. As you know this is an excellent challenge for Machine Learning.\n",
        "\n",
        "![altxt](https://i.pinimg.com/originals/f2/7a/ac/f27aac4542c0090872110836d65f4c99.jpg)\n",
        "\n"
      ]
    },
    {
      "cell_type": "markdown",
      "metadata": {
        "id": "X4F3RvUAd4Hw"
      },
      "source": [
        "## AI / ML Technique"
      ]
    },
    {
      "cell_type": "markdown",
      "metadata": {
        "id": "L1qJVLV4f2tw"
      },
      "source": [
        "### Generative Adversary Networks (GAN)\n",
        "\n",
        "\n",
        "GANs are generative models devised by Goodfellow et al. in 2014. GAN is about creating, like drawing a portrait or composing a symphony. This is hard compared to other deep learning fields. For instance, it is much easier to identify a Monet painting than painting one.\n",
        "\n",
        "\n",
        "The main focus of GAN is to generate data from scratch, mostly images but other domains including music have been done.\n",
        "\n",
        "GAN composes of two deep networks :\n",
        "\n",
        "* Generator\n",
        "* Discriminator\n",
        "\n",
        "\n",
        "#### Generator\n",
        "\n",
        "The generator tries to produce data that come from some probability distribution. For example, that would be you trying to reproduce the party’s tickets.\n",
        "\n",
        "#### Discriminator\n",
        "\n",
        "The discriminator acts like a judge. It gets to decide if the input comes from the generator or from the true training set. For example, that would be the party’s security comparing your fake ticket with the true ticket to find flaws in your design.\n",
        "\n",
        "In summary, we can say that :\n",
        "\n",
        "* The generator trying to maximize the probability of making the discriminator mistake its inputs as real.\n",
        "\n",
        "* And the discriminator guiding the generator to produce more realistic images.\n",
        "\n"
      ]
    },
    {
      "cell_type": "markdown",
      "metadata": {
        "id": "IfpAgIPxr1Em"
      },
      "source": [
        "![alt text](https://cdn.talentsprint.com/aiml/Experiment_related_data/IMAGES/gan.png)"
      ]
    },
    {
      "cell_type": "markdown",
      "metadata": {
        "id": "Fh7DQPQ2d6Wi"
      },
      "source": [
        "## Keywords"
      ]
    },
    {
      "cell_type": "markdown",
      "metadata": {
        "id": "1buGfDQid9Al"
      },
      "source": [
        "* GAN\n",
        "* Generator\n",
        "* Discriminator\n",
        "* MNIST\n",
        "* Fake Images\n",
        "* BCELoss"
      ]
    },
    {
      "cell_type": "markdown",
      "metadata": {
        "id": "G0mc3Ku8eKgG"
      },
      "source": [
        "### Expected time to complete the experiment is 60 mins"
      ]
    },
    {
      "cell_type": "markdown",
      "metadata": {
        "id": "e8ktuH54eQo8"
      },
      "source": [
        "## Setup Steps"
      ]
    },
    {
      "cell_type": "code",
      "metadata": {
        "id": "9Y_UxOzPeVkW"
      },
      "source": [
        "#@title Please enter your registration id to start: (e.g. P181900101) { run: \"auto\", display-mode: \"form\" }\n",
        "Id = \"\" #@param {type:\"string\"}\n"
      ],
      "execution_count": null,
      "outputs": []
    },
    {
      "cell_type": "code",
      "metadata": {
        "id": "2NKdNiU3eWap"
      },
      "source": [
        "#@title Please enter your password (normally your phone number) to continue: { run: \"auto\", display-mode: \"form\" }\n",
        "password = \"\" #@param {type:\"string\"}\n"
      ],
      "execution_count": null,
      "outputs": []
    },
    {
      "cell_type": "code",
      "metadata": {
        "id": "p9yFr0QqHM_p",
        "cellView": "form"
      },
      "source": [
        "#@title Run this cell to complete the setup for this Notebook\n",
        "from IPython import get_ipython\n",
        "\n",
        "ipython = get_ipython()\n",
        "\n",
        "notebook= \"M3W4_040_GAN_B\" #name of the notebook\n",
        "\n",
        "def setup():\n",
        "#  ipython.magic(\"sx pip3 install torch\")\n",
        "    ipython.magic(\"sx pip3 install torch\")\n",
        "    ipython.magic(\"sx pip3 install torchvision\")\n",
        "    ipython.magic(\"sx mkdir results\")\n",
        "    from IPython.display import HTML, display\n",
        "    display(HTML('<script src=\"https://dashboard.talentsprint.com/aiml/record_ip.html?traineeId={0}&recordId={1}\"></script>'.format(getId(),submission_id)))\n",
        "    print(\"Setup completed successfully\")\n",
        "    return\n",
        "\n",
        "def submit_notebook():\n",
        "    ipython.magic(\"notebook -e \"+ notebook + \".ipynb\")\n",
        "\n",
        "    import requests, json, base64, datetime\n",
        "\n",
        "    url = \"https://dashboard.talentsprint.com/xp/app/save_notebook_attempts\"\n",
        "    if not submission_id:\n",
        "      data = {\"id\" : getId(), \"notebook\" : notebook, \"mobile\" : getPassword()}\n",
        "      r = requests.post(url, data = data)\n",
        "      r = json.loads(r.text)\n",
        "\n",
        "      if r[\"status\"] == \"Success\":\n",
        "          return r[\"record_id\"]\n",
        "      elif \"err\" in r:\n",
        "        print(r[\"err\"])\n",
        "        return None\n",
        "      else:\n",
        "        print (\"Something is wrong, the notebook will not be submitted for grading\")\n",
        "        return None\n",
        "\n",
        "    elif getAnswer() and getComplexity() and getAdditional() and getConcepts() and getWalkthrough() and getComments() and getInclassSupport() and getOnlineSupport():\n",
        "      f = open(notebook + \".ipynb\", \"rb\")\n",
        "      file_hash = base64.b64encode(f.read())\n",
        "\n",
        "      data = {\"complexity\" : Complexity, \"additional\" :Additional,\n",
        "              \"concepts\" : Concepts, \"record_id\" : submission_id,\n",
        "              \"answer\" : Answer, \"id\" : Id, \"file_hash\" : file_hash,\n",
        "              \"notebook\" : notebook, \"feedback_walkthrough\":Walkthrough ,\n",
        "              \"feedback_experiments_input\" : Comments,\n",
        "              \"feedback_inclass_mentor\": Inclass_support,\n",
        "              \"feedback_online_mentor\" : Online_support}\n",
        "\n",
        "      r = requests.post(url, data = data)\n",
        "      r = json.loads(r.text)\n",
        "      if \"err\" in r:\n",
        "        print(r[\"err\"])\n",
        "        return None\n",
        "      else:\n",
        "        print(\"Your submission is successful.\")\n",
        "        print(\"Ref Id:\", submission_id)\n",
        "        print(\"Date of submission: \", r[\"date\"])\n",
        "        print(\"Time of submission: \", r[\"time\"])\n",
        "        print(\"View your submissions: https://iiith-aiml.talentsprint.com/notebook_submissions\")\n",
        "        #print(\"For any queries/discrepancies, please connect with mentors through the chat icon in LMS dashboard.\")\n",
        "        return submission_id\n",
        "    else: submission_id\n",
        "\n",
        "\n",
        "def getAdditional():\n",
        "  try:\n",
        "    if not Additional:\n",
        "      raise NameError\n",
        "    else:\n",
        "      return Additional\n",
        "  except NameError:\n",
        "    print (\"Please answer Additional Question\")\n",
        "    return None\n",
        "\n",
        "def getComplexity():\n",
        "  try:\n",
        "    if not Complexity:\n",
        "      raise NameError\n",
        "    else:\n",
        "      return Complexity\n",
        "  except NameError:\n",
        "    print (\"Please answer Complexity Question\")\n",
        "    return None\n",
        "\n",
        "def getConcepts():\n",
        "  try:\n",
        "    if not Concepts:\n",
        "      raise NameError\n",
        "    else:\n",
        "      return Concepts\n",
        "  except NameError:\n",
        "    print (\"Please answer Concepts Question\")\n",
        "    return None\n",
        "\n",
        "\n",
        "def getWalkthrough():\n",
        "  try:\n",
        "    if not Walkthrough:\n",
        "      raise NameError\n",
        "    else:\n",
        "      return Walkthrough\n",
        "  except NameError:\n",
        "    print (\"Please answer Walkthrough Question\")\n",
        "    return None\n",
        "\n",
        "def getComments():\n",
        "  try:\n",
        "    if not Comments:\n",
        "      raise NameError\n",
        "    else:\n",
        "      return Comments\n",
        "  except NameError:\n",
        "    print (\"Please answer Comments Question\")\n",
        "    return None\n",
        "\n",
        "def getInclassSupport():\n",
        "  try:\n",
        "    if not Inclass_support:\n",
        "      raise NameError\n",
        "    else:\n",
        "      return Inclass_support\n",
        "  except NameError:\n",
        "    print (\"Please answer Inclass support Question\")\n",
        "    return None\n",
        "\n",
        "\n",
        "def getOnlineSupport():\n",
        "  try:\n",
        "    if not Online_support:\n",
        "      raise NameError\n",
        "    else:\n",
        "      return Online_support\n",
        "  except NameError:\n",
        "    print (\"Please answer Online support Question\")\n",
        "    return None\n",
        "\n",
        "def getAnswer():\n",
        "  try:\n",
        "    if not Answer:\n",
        "      raise NameError\n",
        "    else:\n",
        "      return Answer\n",
        "  except NameError:\n",
        "    print (\"Please answer Question\")\n",
        "    return None\n",
        "\n",
        "\n",
        "def getId():\n",
        "  try:\n",
        "    return Id if Id else None\n",
        "  except NameError:\n",
        "    return None\n",
        "\n",
        "def getPassword():\n",
        "  try:\n",
        "    return password if password else None\n",
        "  except NameError:\n",
        "    return None\n",
        "\n",
        "submission_id = None\n",
        "### Setup\n",
        "if getPassword() and getId():\n",
        "  submission_id = submit_notebook()\n",
        "  if submission_id:\n",
        "    setup()\n",
        "else:\n",
        "  print (\"Please complete Id and Password cells before running setup\")\n",
        "\n"
      ],
      "execution_count": null,
      "outputs": []
    },
    {
      "cell_type": "markdown",
      "metadata": {
        "id": "eBD0M7uyinT3"
      },
      "source": [
        "#### Importing required  Packages"
      ]
    },
    {
      "cell_type": "code",
      "metadata": {
        "id": "N0WQEuRFNF8A"
      },
      "source": [
        "import itertools\n",
        "import math\n",
        "import time\n",
        "import matplotlib.pyplot as plt\n",
        "from IPython import display\n",
        "\n",
        "# Pytorch Packages\n",
        "import torch\n",
        "import torchvision\n",
        "import torch.nn as nn\n",
        "import torchvision.datasets as dsets\n",
        "import torchvision.transforms as transforms\n",
        "\n"
      ],
      "execution_count": null,
      "outputs": []
    },
    {
      "cell_type": "markdown",
      "metadata": {
        "id": "XYJJ-dZUNQ7G"
      },
      "source": [
        "### Loading data"
      ]
    },
    {
      "cell_type": "code",
      "metadata": {
        "id": "4lk_QTO1NLqg"
      },
      "source": [
        "transform = transforms.Compose([\n",
        "        transforms.ToTensor(),\n",
        "        transforms.Normalize((0.1307,), (0.3081,))])\n",
        "\n",
        "train_dataset = dsets.MNIST(root='./data/', train=True, download=True, transform=transform)\n",
        "train_loader = torch.utils.data.DataLoader(train_dataset, batch_size=100, shuffle=True)"
      ],
      "execution_count": null,
      "outputs": []
    },
    {
      "cell_type": "markdown",
      "metadata": {
        "id": "DSTlJWI8NVX7"
      },
      "source": [
        "### Model"
      ]
    },
    {
      "cell_type": "code",
      "metadata": {
        "id": "G6WC2JuiNShJ"
      },
      "source": [
        "class Discriminator(nn.Module):\n",
        "    def __init__(self):\n",
        "        super().__init__()\n",
        "        self.model = nn.Sequential(\n",
        "            nn.Linear(784, 1024),\n",
        "            nn.LeakyReLU(0.2, inplace=True),\n",
        "            nn.Dropout(0.3),\n",
        "            nn.Linear(1024, 512),\n",
        "            nn.LeakyReLU(0.2, inplace=True),\n",
        "            nn.Dropout(0.3),\n",
        "            nn.Linear(512, 256),\n",
        "            nn.LeakyReLU(0.2, inplace=True),\n",
        "            nn.Dropout(0.3),\n",
        "            nn.Linear(256, 1),\n",
        "            nn.Sigmoid()\n",
        "        )\n",
        "\n",
        "    def forward(self, x):\n",
        "        out = self.model(x.view(x.size(0), 784))\n",
        "        out = out.view(out.size(0), -1)\n",
        "        return out"
      ],
      "execution_count": null,
      "outputs": []
    },
    {
      "cell_type": "code",
      "metadata": {
        "id": "MtiXrEclNW1p"
      },
      "source": [
        "class Generator(nn.Module):\n",
        "    def __init__(self):\n",
        "        super().__init__()\n",
        "        self.model = nn.Sequential(\n",
        "            #YOUR CODE HERE: Define a linear layer whose input size is 100 and output size is 256\n",
        "            nn.LeakyReLU(0.2, inplace=True),\n",
        "            #YOUR CODE HERE: Define a linear layer whose input size is 256 and output size is 512\n",
        "            nn.LeakyReLU(0.2, inplace=True),\n",
        "            #YOUR CODE HERE: Define a linear layer whose input size is 512 and output size is 1024\n",
        "            nn.LeakyReLU(0.2, inplace=True),\n",
        "            #YOUR CODE HERE: Define a linear layer whose input size is 1024 and output size is 784\n",
        "            #YOUR CODE HERE: Define a 'Tanh' activation layer\n",
        "\n",
        "        )\n",
        "\n",
        "    def forward(self, x):\n",
        "        x = x.view(x.size(0), 100)\n",
        "        out = self.model(x)\n",
        "        return out"
      ],
      "execution_count": null,
      "outputs": []
    },
    {
      "cell_type": "code",
      "metadata": {
        "id": "eji1M8AFN5wW"
      },
      "source": [
        "use_cuda = torch.cuda.is_available()\n",
        "device = torch.device(\"cuda\" if use_cuda else \"cpu\")"
      ],
      "execution_count": null,
      "outputs": []
    },
    {
      "cell_type": "code",
      "metadata": {
        "id": "mOCjnR7pNZwG"
      },
      "source": [
        "discriminator = # YOUR CODE HERE: Call the model 'Discriminator' defined above and convert it into a CUDA variable.\n",
        "generator = # YOUR CODE HERE: Call the model 'Generator' defined above and convert it into a CUDA variable."
      ],
      "execution_count": null,
      "outputs": []
    },
    {
      "cell_type": "markdown",
      "metadata": {
        "id": "zWV3XqY5OMVQ"
      },
      "source": [
        "### Optimization"
      ]
    },
    {
      "cell_type": "code",
      "metadata": {
        "id": "_kBbD1H9OJVx"
      },
      "source": [
        "criterion = # YOUR CODE HERE: Initialize BCE Loss function.\n",
        "lr = 0.0002\n",
        "d_optimizer = torch.optim.Adam(discriminator.parameters(), lr=lr)\n",
        "g_optimizer = torch.optim.Adam(generator.parameters(), lr=lr)"
      ],
      "execution_count": null,
      "outputs": []
    },
    {
      "cell_type": "markdown",
      "metadata": {
        "id": "V8kVlovDORTG"
      },
      "source": [
        "## Training"
      ]
    },
    {
      "cell_type": "code",
      "metadata": {
        "id": "cerV5nOKOOoz"
      },
      "source": [
        "def train_discriminator(discriminator, images, real_labels, fake_images, fake_labels):\n",
        "\n",
        "    #  YOUR CODE HERE :  Zero out the gradients using zero_grad() function.\n",
        "\n",
        "    outputs = # YOUR CODE HERE : Call the model object 'discriminator' defined above by passing 'images' as its arguments.\n",
        "    real_loss = criterion(outputs, real_labels)\n",
        "\n",
        "    real_score = outputs\n",
        "\n",
        "    outputs = # YOUR CODE HERE : Call the model object 'discriminator' defined above by passing 'fake_images' as its arguments.\n",
        "\n",
        "    fake_loss = criterion(outputs, fake_labels)\n",
        "\n",
        "    fake_score = outputs\n",
        "\n",
        "    d_loss = # Calculate the loss which is sum of 'real_loss' and 'fake_loss'.\n",
        "\n",
        "      # YOUR CODE HERE : Perform backward pass to compute the gradients\n",
        "\n",
        "    d_optimizer.step()\n",
        "    return d_loss, real_score, fake_score"
      ],
      "execution_count": null,
      "outputs": []
    },
    {
      "cell_type": "code",
      "metadata": {
        "id": "C0lpHk9QOZ52"
      },
      "source": [
        "def train_generator(generator, discriminator_outputs, real_labels):\n",
        "\n",
        "    generator.zero_grad()\n",
        "\n",
        "    g_loss = criterion(discriminator_outputs, real_labels)\n",
        "\n",
        "    # YOUR CODE HERE : Perform Backward pass\n",
        "\n",
        "    g_optimizer.step()\n",
        "\n",
        "    return g_loss"
      ],
      "execution_count": null,
      "outputs": []
    },
    {
      "cell_type": "code",
      "metadata": {
        "id": "uf9-TwixOihO"
      },
      "source": [
        "# draw samples from the input distribution to inspect the generation on training\n",
        "num_test_samples = 16\n",
        "test_noise = torch.randn(num_test_samples, 100).to(device)\n"
      ],
      "execution_count": null,
      "outputs": []
    },
    {
      "cell_type": "markdown",
      "metadata": {
        "id": "b3929IPDf_MD"
      },
      "source": [
        "### In below output the image gets updated for every iteration"
      ]
    },
    {
      "cell_type": "code",
      "metadata": {
        "id": "aqdz84moOnxw"
      },
      "source": [
        "# create figure for plotting\n",
        "size_figure_grid = int(math.sqrt(num_test_samples))\n",
        "fig, ax = plt.subplots(size_figure_grid, size_figure_grid, figsize=(6, 6))\n",
        "for i, j in itertools.product(range(size_figure_grid), range(size_figure_grid)):\n",
        "    ax[i,j].get_xaxis().set_visible(False)\n",
        "    ax[i,j].get_yaxis().set_visible(False)\n",
        "\n",
        "\n",
        "num_epochs = # YOUR CODE HERE : Define number of epochs\n",
        "num_batches = len(train_loader)\n",
        "num_fig = # YOUR CODE HERE : Initialize figure counter\n",
        "\n",
        "\n",
        "for epoch in range(num_epochs):\n",
        "    for n, (images, _) in enumerate(train_loader):\n",
        "        images = images.to(device)\n",
        "        #print(images.size)\n",
        "        real_labels = torch.ones(images.size(0)).to(device)\n",
        "\n",
        "        # Sample from generator\n",
        "        noise = torch.randn(images.size(0), 100).to(device)\n",
        "        fake_images = generator(noise)\n",
        "        fake_labels = torch.zeros(images.size(0)).to(device)\n",
        "\n",
        "\n",
        "        d_loss, real_score, fake_score = # Call 'train_discriminator' define above by passing 'discriminator', 'images', 'real_labels', 'fake_images', 'fake_labels' as its arguments.\n",
        "\n",
        "        # Sample again from the generator and get output from discriminator\n",
        "        noise = torch.randn(images.size(0), 100).to(device)\n",
        "\n",
        "        fake_images = generator(noise)\n",
        "        outputs = discriminator(fake_images)\n",
        "\n",
        "        # Train the generator\n",
        "        g_loss = train_generator(generator, outputs, real_labels)\n",
        "\n",
        "        if (n+1) % 100 == 0:\n",
        "            test_images = generator(test_noise)\n",
        "\n",
        "            for k in range(num_test_samples):\n",
        "                i = k//4\n",
        "                j = k%4\n",
        "                ax[i,j].cla()\n",
        "                ax[i,j].imshow(test_images[k,:].data.cpu().numpy().reshape(28, 28), cmap='Greys')\n",
        "            display.clear_output(wait=True)\n",
        "            display.display(plt.gcf())\n",
        "\n",
        "            plt.savefig('results/mnist-gan-%03d.png')\n",
        "            num_fig += 1\n",
        "            print('Epoch [%d/%d], Step[%d/%d], d_loss: %.4f, g_loss: %.4f, '\n",
        "                  'D(x): %.2f, D(G(z)): %.2f'\n",
        "                  %(epoch + 1, num_epochs, n+1, num_batches, d_loss.item(), g_loss.item(),\n",
        "                    real_score.data.mean(), fake_score.data.mean()))\n",
        "\n",
        "fig.show()"
      ],
      "execution_count": null,
      "outputs": []
    },
    {
      "cell_type": "markdown",
      "metadata": {
        "id": "jnBU3uiQem_8"
      },
      "source": [
        "### Please answer the questions below to complete the experiment:"
      ]
    },
    {
      "cell_type": "code",
      "metadata": {
        "id": "ObDqMVhiHIpu"
      },
      "source": [
        "#@title In GANS, the generator guides the discriminator to produce more realistic images\" ? { run: \"auto\", form-width: \"500px\", display-mode: \"form\" }\n",
        "Answer = \"\" #@param [\"\",\"True\", \"False\"]\n"
      ],
      "execution_count": null,
      "outputs": []
    },
    {
      "cell_type": "code",
      "metadata": {
        "id": "B0KcZCz5e6sA"
      },
      "source": [
        "#@title How was the experiment? { run: \"auto\", form-width: \"500px\", display-mode: \"form\" }\n",
        "Complexity = \"\" #@param [\"\",\"Too Simple, I am wasting time\", \"Good, But Not Challenging for me\", \"Good and Challenging me\", \"Was Tough, but I did it\", \"Too Difficult for me\"]\n"
      ],
      "execution_count": null,
      "outputs": []
    },
    {
      "cell_type": "code",
      "metadata": {
        "id": "ZZTYl4pmg9Qq"
      },
      "source": [
        "#@title If it was very easy, what more you would have liked to have been added? If it was very difficult, what would you have liked to have been removed? { run: \"auto\", display-mode: \"form\" }\n",
        "Additional = \"\" #@param {type:\"string\"}"
      ],
      "execution_count": null,
      "outputs": []
    },
    {
      "cell_type": "code",
      "metadata": {
        "id": "4YKDp73pg_IE"
      },
      "source": [
        "#@title Can you identify the concepts from the lecture which this experiment covered? { run: \"auto\", vertical-output: true, display-mode: \"form\" }\n",
        "Concepts = \"\" #@param [\"\",\"Yes\", \"No\"]"
      ],
      "execution_count": null,
      "outputs": []
    },
    {
      "cell_type": "code",
      "metadata": {
        "id": "WxQbRbxDXXTA"
      },
      "source": [
        "#@title  Experiment walkthrough video? { run: \"auto\", vertical-output: true, display-mode: \"form\" }\n",
        "Walkthrough = \"\" #@param [\"\",\"Very Useful\", \"Somewhat Useful\", \"Not Useful\", \"Didn't use\"]\n"
      ],
      "execution_count": null,
      "outputs": []
    },
    {
      "cell_type": "code",
      "metadata": {
        "id": "GkRrtJn7XXa5"
      },
      "source": [
        "#@title  Text and image description/explanation and code comments within the experiment: { run: \"auto\", vertical-output: true, display-mode: \"form\" }\n",
        "Comments = \"\" #@param [\"\",\"Very Useful\", \"Somewhat Useful\", \"Not Useful\", \"Didn't use\"]\n"
      ],
      "execution_count": null,
      "outputs": []
    },
    {
      "cell_type": "code",
      "metadata": {
        "id": "g8VxMfNdXXWz"
      },
      "source": [
        "#@title In class Mentor Support: { run: \"auto\", vertical-output: true, display-mode: \"form\" }\n",
        "Inclass_support = \"\" #@param [\"\",\"Very Useful\", \"Somewhat Useful\", \"Not Useful\", \"Didn't use\"]\n"
      ],
      "execution_count": null,
      "outputs": []
    },
    {
      "cell_type": "code",
      "metadata": {
        "id": "VEhnkd0hXXPy"
      },
      "source": [
        "#@title Online Mentor Support: { run: \"auto\", vertical-output: true, display-mode: \"form\" }\n",
        "Online_support = \"\" #@param [\"\",\"Very Useful\", \"Somewhat Useful\", \"Not Useful\", \"Didn't use\"]\n"
      ],
      "execution_count": null,
      "outputs": []
    },
    {
      "cell_type": "code",
      "metadata": {
        "id": "Z_kN_0ndeyb4",
        "cellView": "form"
      },
      "source": [
        "#@title Run this cell to submit your notebook for grading { vertical-output: true }\n",
        "try:\n",
        "  if submission_id:\n",
        "      return_id = submit_notebook()\n",
        "      if return_id : submission_id =return_id\n",
        "  else:\n",
        "      print(\"Please complete the setup first.\")\n",
        "except NameError:\n",
        "  print (\"Please complete the setup first.\")"
      ],
      "execution_count": null,
      "outputs": []
    }
  ]
}